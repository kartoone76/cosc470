{
 "cells": [
  {
   "cell_type": "code",
   "execution_count": 2,
   "id": "ee003639",
   "metadata": {},
   "outputs": [
    {
     "name": "stdout",
     "output_type": "stream",
     "text": [
      "/workspaces/cosc470/notebooks\n"
     ]
    }
   ],
   "source": [
    "!pwd"
   ]
  },
  {
   "cell_type": "code",
   "execution_count": null,
   "id": "80fd97e7",
   "metadata": {},
   "outputs": [
    {
     "name": "stderr",
     "output_type": "stream",
     "text": [
      "100%|██████████| 9.91M/9.91M [00:00<00:00, 108MB/s]\n",
      "100%|██████████| 28.9k/28.9k [00:00<00:00, 7.19MB/s]\n",
      "100%|██████████| 1.65M/1.65M [00:00<00:00, 14.7MB/s]\n",
      "100%|██████████| 4.54k/4.54k [00:00<00:00, 2.90MB/s]\n"
     ]
    }
   ],
   "source": [
    "import torch\n",
    "from torchvision import datasets, transforms\n",
    "\n",
    "mnist_train = datasets.MNIST(\n",
    "    root='/workspaces/cosc470/data',\n",
    "    train=True,\n",
    "    download=True,\n",
    "    transform=transforms.ToTensor()\n",
    ")\n",
    "\n",
    "mnist_test = datasets.MNIST(\n",
    "    root='/workspaces/cosc470/data',\n",
    "    train=False,\n",
    "    download=True,\n",
    "    transform=transforms.ToTensor()\n",
    ")\n",
    "\n"
   ]
  },
  {
   "cell_type": "code",
   "execution_count": 15,
   "id": "b0ad399b",
   "metadata": {},
   "outputs": [
    {
     "name": "stdout",
     "output_type": "stream",
     "text": [
      "tensor([[0.1639, 0.0871, 0.0733, 0.0880, 0.0706, 0.1155, 0.0938, 0.1313, 0.1035,\n",
      "         0.0729]], grad_fn=<SoftmaxBackward0>)\n",
      "5\n",
      "tensor([[0.1187, 0.1030, 0.0879, 0.1020, 0.0976, 0.1047, 0.0954, 0.1018, 0.0971,\n",
      "         0.0917]], grad_fn=<SoftmaxBackward0>)\n"
     ]
    }
   ],
   "source": [
    "import torch.nn as nn\n",
    "import torch.nn.functional as F\n",
    "\n",
    "class SimpleCNN(nn.Module):\n",
    "    def __init__(self):\n",
    "        super(SimpleCNN, self).__init__()\n",
    "        self.conv1 = nn.Conv2d(1, 20, kernel_size=4)\n",
    "        self.pool = nn.MaxPool2d(5, 5)\n",
    "        self.fc1 = nn.Linear(20 * 5 * 5, 100)\n",
    "        self.fc2 = nn.Linear(100, 10)\n",
    "\n",
    "    def forward(self, x):\n",
    "        x = self.pool(F.relu(self.conv1(x)))\n",
    "        x = x.view(-1, 20 * 5 * 5)\n",
    "        x = F.relu(self.fc1(x))\n",
    "        x = F.softmax(self.fc2(x), dim=1)\n",
    "        return x\n",
    "\n",
    "model = SimpleCNN()\n",
    "bad_prediction = model.forward(torch.randn(1, 1, 28, 28))\n",
    "print(bad_prediction)\n",
    "real_image = mnist_train[0][0].unsqueeze(0)\n",
    "print(mnist_train[0][1])\n",
    "good_prediction = model.forward(real_image)\n",
    "print(good_prediction)"
   ]
  },
  {
   "cell_type": "code",
   "execution_count": 16,
   "id": "c4dda477",
   "metadata": {},
   "outputs": [
    {
     "name": "stdout",
     "output_type": "stream",
     "text": [
      "Epoch [1/20], Loss: 2.0103\n",
      "Test Accuracy: 81.26%\n",
      "Epoch [2/20], Loss: 1.6016\n",
      "Test Accuracy: 92.09%\n",
      "Epoch [3/20], Loss: 1.5458\n",
      "Test Accuracy: 94.25%\n",
      "Epoch [4/20], Loss: 1.5253\n",
      "Test Accuracy: 95.31%\n",
      "Epoch [5/20], Loss: 1.5136\n",
      "Test Accuracy: 95.80%\n",
      "Epoch [6/20], Loss: 1.5065\n",
      "Test Accuracy: 96.40%\n",
      "Epoch [7/20], Loss: 1.5017\n",
      "Test Accuracy: 97.09%\n",
      "Epoch [8/20], Loss: 1.4980\n",
      "Test Accuracy: 97.19%\n",
      "Epoch [9/20], Loss: 1.4950\n",
      "Test Accuracy: 97.15%\n",
      "Epoch [10/20], Loss: 1.4929\n",
      "Test Accuracy: 97.54%\n",
      "Epoch [11/20], Loss: 1.4911\n",
      "Test Accuracy: 97.51%\n",
      "Epoch [12/20], Loss: 1.4894\n",
      "Test Accuracy: 97.58%\n",
      "Epoch [13/20], Loss: 1.4880\n",
      "Test Accuracy: 97.53%\n",
      "Epoch [14/20], Loss: 1.4865\n",
      "Test Accuracy: 97.83%\n",
      "Epoch [15/20], Loss: 1.4856\n",
      "Test Accuracy: 97.73%\n",
      "Epoch [16/20], Loss: 1.4844\n",
      "Test Accuracy: 97.76%\n",
      "Epoch [17/20], Loss: 1.4834\n",
      "Test Accuracy: 97.99%\n",
      "Epoch [18/20], Loss: 1.4825\n",
      "Test Accuracy: 98.13%\n",
      "Epoch [19/20], Loss: 1.4818\n",
      "Test Accuracy: 97.90%\n",
      "Epoch [20/20], Loss: 1.4811\n",
      "Test Accuracy: 98.23%\n"
     ]
    }
   ],
   "source": [
    "from torch.utils.data import DataLoader\n",
    "\n",
    "# Set hyperparameters\n",
    "learning_rate = 0.01\n",
    "batch_size = 10\n",
    "epochs = 20\n",
    "\n",
    "# DataLoader for training\n",
    "train_loader = DataLoader(mnist_train, batch_size=batch_size, shuffle=True)\n",
    "test_loader = DataLoader(mnist_test, batch_size=batch_size, shuffle=False)\n",
    "\n",
    "# Loss function and optimizer\n",
    "criterion = nn.CrossEntropyLoss()\n",
    "optimizer = torch.optim.SGD(model.parameters(), lr=learning_rate)\n",
    "\n",
    "# Training loop\n",
    "for epoch in range(epochs):\n",
    "    running_loss = 0.0\n",
    "    for images, labels in train_loader:\n",
    "        # Forward pass\n",
    "        outputs = model(images)\n",
    "        loss = criterion(outputs, labels)\n",
    "\n",
    "        # Backward and optimize\n",
    "        optimizer.zero_grad()\n",
    "        loss.backward()\n",
    "        optimizer.step()\n",
    "\n",
    "        running_loss += loss.item()\n",
    "    print(f\"Epoch [{epoch+1}/{epochs}], Loss: {running_loss/len(train_loader):.4f}\")\n",
    "    correct = 0\n",
    "    for testimage in mnist_test:\n",
    "        a = testimage[0].unsqueeze(0)\n",
    "        a = model.forward(a)\n",
    "        if torch.argmax(a) == testimage[1]:\n",
    "            correct += 1\n",
    "    print(f\"Test Accuracy: {100 * correct / len(mnist_test):.2f}%\")"
   ]
  }
 ],
 "metadata": {
  "kernelspec": {
   "display_name": "Python 3",
   "language": "python",
   "name": "python3"
  },
  "language_info": {
   "codemirror_mode": {
    "name": "ipython",
    "version": 3
   },
   "file_extension": ".py",
   "mimetype": "text/x-python",
   "name": "python",
   "nbconvert_exporter": "python",
   "pygments_lexer": "ipython3",
   "version": "3.12.1"
  }
 },
 "nbformat": 4,
 "nbformat_minor": 5
}
