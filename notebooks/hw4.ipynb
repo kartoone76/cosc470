{
 "cells": [
  {
   "cell_type": "code",
   "execution_count": 2,
   "id": "ee003639",
   "metadata": {},
   "outputs": [
    {
     "name": "stdout",
     "output_type": "stream",
     "text": [
      "/workspaces/cosc470/notebooks\n"
     ]
    }
   ],
   "source": [
    "!pwd"
   ]
  },
  {
   "cell_type": "code",
   "execution_count": 1,
   "id": "80fd97e7",
   "metadata": {},
   "outputs": [],
   "source": [
    "import torch\n",
    "from torchvision import datasets, transforms\n",
    "\n",
    "mnist_train = datasets.MNIST(\n",
    "    root='/workspaces/cosc470/data',\n",
    "    train=True,\n",
    "    download=True,\n",
    "    transform=transforms.ToTensor()\n",
    ")\n",
    "\n",
    "mnist_test = datasets.MNIST(\n",
    "    root='/workspaces/cosc470/data',\n",
    "    train=False,\n",
    "    download=True,\n",
    "    transform=transforms.ToTensor()\n",
    ")\n",
    "\n"
   ]
  },
  {
   "cell_type": "code",
   "execution_count": 6,
   "id": "b0ad399b",
   "metadata": {},
   "outputs": [
    {
     "name": "stdout",
     "output_type": "stream",
     "text": [
      "tensor([[0.1012, 0.0954, 0.0971, 0.0849, 0.0881, 0.1062, 0.1040, 0.1167, 0.1046,\n",
      "         0.1017]], grad_fn=<SoftmaxBackward0>)\n",
      "5\n",
      "tensor([[0.1014, 0.0964, 0.1014, 0.0982, 0.0993, 0.0997, 0.1020, 0.1023, 0.1005,\n",
      "         0.0990]], grad_fn=<SoftmaxBackward0>)\n"
     ]
    }
   ],
   "source": [
    "import torch.nn as nn\n",
    "import torch.nn.functional as F\n",
    "\n",
    "class SimpleCNN(nn.Module):\n",
    "    def __init__(self):\n",
    "        super(SimpleCNN, self).__init__()\n",
    "        self.conv1 = nn.Conv2d(1, 20, kernel_size=5, bias=False)\n",
    "        self.pool = nn.MaxPool2d(2, 2)\n",
    "        self.conv2 = nn.Conv2d(20, 50, kernel_size=3, bias=False)\n",
    "        self.pool2 = nn.MaxPool2d(2, 2)\n",
    "        self.fc1 = nn.Linear(50 * 5 * 5, 100, bias=False)\n",
    "        self.fc2 = nn.Linear(100, 10, bias=False)\n",
    "\n",
    "    def forward(self, x):\n",
    "        x = self.pool(F.relu(self.conv1(x)))\n",
    "        x = self.pool2(F.relu(self.conv2(x)))\n",
    "        x = x.view(-1, 50 * 5 * 5)\n",
    "        x = F.relu(self.fc1(x))\n",
    "        x = F.softmax(self.fc2(x), dim=1)\n",
    "        return x\n",
    "\n",
    "model = SimpleCNN()\n",
    "bad_prediction = model.forward(torch.randn(1, 1, 28, 28))\n",
    "print(bad_prediction)\n",
    "real_image = mnist_train[0][0].unsqueeze(0)\n",
    "print(mnist_train[0][1])\n",
    "good_prediction = model.forward(real_image)\n",
    "print(good_prediction)"
   ]
  },
  {
   "cell_type": "code",
   "execution_count": 7,
   "id": "c4dda477",
   "metadata": {},
   "outputs": [
    {
     "name": "stdout",
     "output_type": "stream",
     "text": [
      "Epoch [1/20], Loss: 1.9991\n",
      "Test Accuracy: 82.54%\n",
      "Epoch [2/20], Loss: 1.6367\n",
      "Test Accuracy: 89.06%\n",
      "Epoch [3/20], Loss: 1.5416\n",
      "Test Accuracy: 94.92%\n",
      "Epoch [4/20], Loss: 1.5116\n",
      "Test Accuracy: 96.40%\n",
      "Epoch [5/20], Loss: 1.4991\n",
      "Test Accuracy: 97.25%\n",
      "Epoch [6/20], Loss: 1.4922\n",
      "Test Accuracy: 97.60%\n",
      "Epoch [7/20], Loss: 1.4882\n",
      "Test Accuracy: 97.61%\n",
      "Epoch [8/20], Loss: 1.4854\n",
      "Test Accuracy: 98.04%\n",
      "Epoch [9/20], Loss: 1.4830\n",
      "Test Accuracy: 97.86%\n",
      "Epoch [10/20], Loss: 1.4812\n",
      "Test Accuracy: 98.39%\n",
      "Epoch [11/20], Loss: 1.4796\n",
      "Test Accuracy: 98.31%\n",
      "Epoch [12/20], Loss: 1.4779\n",
      "Test Accuracy: 98.23%\n",
      "Epoch [13/20], Loss: 1.4770\n",
      "Test Accuracy: 98.65%\n",
      "Epoch [14/20], Loss: 1.4764\n",
      "Test Accuracy: 98.49%\n",
      "Epoch [15/20], Loss: 1.4751\n",
      "Test Accuracy: 98.72%\n",
      "Epoch [16/20], Loss: 1.4744\n",
      "Test Accuracy: 98.59%\n",
      "Epoch [17/20], Loss: 1.4737\n",
      "Test Accuracy: 98.52%\n",
      "Epoch [18/20], Loss: 1.4733\n",
      "Test Accuracy: 98.67%\n",
      "Epoch [19/20], Loss: 1.4725\n",
      "Test Accuracy: 98.59%\n",
      "Epoch [20/20], Loss: 1.4719\n",
      "Test Accuracy: 98.76%\n"
     ]
    }
   ],
   "source": [
    "from torch.utils.data import DataLoader\n",
    "\n",
    "# Set hyperparameters\n",
    "learning_rate = 0.01\n",
    "batch_size = 10\n",
    "epochs = 20\n",
    "\n",
    "# DataLoader for training\n",
    "train_loader = DataLoader(mnist_train, batch_size=batch_size, shuffle=True)\n",
    "test_loader = DataLoader(mnist_test, batch_size=batch_size, shuffle=False)\n",
    "\n",
    "# Loss function and optimizer\n",
    "criterion = nn.CrossEntropyLoss()\n",
    "optimizer = torch.optim.SGD(model.parameters(), lr=learning_rate)\n",
    "\n",
    "# Training loop\n",
    "for epoch in range(epochs):\n",
    "    running_loss = 0.0\n",
    "    for images, labels in train_loader:\n",
    "        # Forward pass\n",
    "        outputs = model(images)\n",
    "        loss = criterion(outputs, labels)\n",
    "\n",
    "        # Backward and optimize\n",
    "        optimizer.zero_grad()\n",
    "        loss.backward()\n",
    "        optimizer.step()\n",
    "\n",
    "        running_loss += loss.item()\n",
    "    print(f\"Epoch [{epoch+1}/{epochs}], Loss: {running_loss/len(train_loader):.4f}\")\n",
    "    correct = 0\n",
    "    for testimage in mnist_test:\n",
    "        a = testimage[0].unsqueeze(0)\n",
    "        a = model.forward(a)\n",
    "        if torch.argmax(a) == testimage[1]:\n",
    "            correct += 1\n",
    "    print(f\"Test Accuracy: {100 * correct / len(mnist_test):.2f}%\")"
   ]
  }
 ],
 "metadata": {
  "kernelspec": {
   "display_name": "Python 3",
   "language": "python",
   "name": "python3"
  },
  "language_info": {
   "codemirror_mode": {
    "name": "ipython",
    "version": 3
   },
   "file_extension": ".py",
   "mimetype": "text/x-python",
   "name": "python",
   "nbconvert_exporter": "python",
   "pygments_lexer": "ipython3",
   "version": "3.12.1"
  }
 },
 "nbformat": 4,
 "nbformat_minor": 5
}
